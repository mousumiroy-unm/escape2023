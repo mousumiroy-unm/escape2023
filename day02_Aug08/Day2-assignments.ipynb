{
 "cells": [
  {
   "cell_type": "markdown",
   "id": "d33de39e-3a9f-45e6-86b4-40b490a07453",
   "metadata": {},
   "source": [
    "# Assignments for Day 2"
   ]
  },
  {
   "cell_type": "markdown",
   "id": "hungarian-affiliation",
   "metadata": {},
   "source": [
    "#### 0. Use `input()`:\n",
    "\n",
    "a. ask the user for a number, then print the factorial of that number (Use np.math.factorial)\n",
    "\n",
    "b. use input() in a while loop, so that each time the user inputs something, we write it out to a file. When the user inputs the word \"Done\", stop the loop and close the file."
   ]
  },
  {
   "cell_type": "code",
   "execution_count": null,
   "id": "rough-calgary",
   "metadata": {},
   "outputs": [],
   "source": []
  },
  {
   "cell_type": "markdown",
   "id": "daily-greenhouse",
   "metadata": {},
   "source": [
    "#### 1. Download and read in a csv file of recent earthquakes\n",
    "\n",
    "Go to https://earthquake.usgs.gov/earthquakes/search/ and conduct a search of your choice that returns approximately 100 to 200 earthquakes.\n",
    "\n",
    "Under 'output options' change the format to 'CSV', it should download directly to your computer.\n",
    "\n",
    "a. Now, read this file into python using Pandas, and print out just the 'time', 'latitude', 'longitude', and 'mag' columns.\n",
    "\n",
    "b. Also, make a simple plot with 'longitude' on the X axis and 'latitude' on the Y axis, using plt.scatter(). Optionally, try coloring the points or setting their size based on magnitude."
   ]
  },
  {
   "cell_type": "code",
   "execution_count": null,
   "id": "strong-acting",
   "metadata": {},
   "outputs": [],
   "source": []
  },
  {
   "cell_type": "markdown",
   "id": "animal-indiana",
   "metadata": {},
   "source": [
    "#### 2. cats\n",
    "\n",
    "Make a plot of the cats vs. time csv file. It is a simple plot, but make sure it looks nice! Add axis labels, use a nice color scheme, add a legend, etc.\n"
   ]
  },
  {
   "cell_type": "code",
   "execution_count": null,
   "id": "protected-shift",
   "metadata": {},
   "outputs": [],
   "source": [
    "# cats"
   ]
  },
  {
   "cell_type": "markdown",
   "id": "returning-newfoundland",
   "metadata": {},
   "source": [
    "#### 3. SST plots\n",
    "Download the full timeseries of sea surface temperatures from 1891 to present ('sst.mon.mean.nc', 157 MB) from https://downloads.psl.noaa.gov/Datasets/COBE/.\n",
    "\n",
    "a. create a beautiful plot of the most recent month's SST, and use plt.savefig() to save it as a PDF (no need to turn in the pdf, just make it for yourself).\\\n",
    "Extra points for using creative colorschemes, plotting methods, or anything else unexpected!\n",
    "\n",
    "b. Create a time-series plot of the SST of one point in the ocean over the whole time period. Is it going up?\n"
   ]
  },
  {
   "cell_type": "code",
   "execution_count": null,
   "id": "drawn-hostel",
   "metadata": {},
   "outputs": [],
   "source": []
  }
 ],
 "metadata": {
  "kernelspec": {
   "display_name": "Python 3 (ipykernel)",
   "language": "python",
   "name": "python3"
  },
  "language_info": {
   "codemirror_mode": {
    "name": "ipython",
    "version": 3
   },
   "file_extension": ".py",
   "mimetype": "text/x-python",
   "name": "python",
   "nbconvert_exporter": "python",
   "pygments_lexer": "ipython3",
   "version": "3.10.12"
  }
 },
 "nbformat": 4,
 "nbformat_minor": 5
}
